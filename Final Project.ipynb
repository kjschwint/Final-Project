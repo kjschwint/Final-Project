{
 "cells": [
  {
   "cell_type": "markdown",
   "id": "08f4d195",
   "metadata": {},
   "source": [
    "### Name: Kevin J. Schwint\n",
    "#### Date: May 2, 2023"
   ]
  },
  {
   "cell_type": "markdown",
   "id": "9a85be16",
   "metadata": {},
   "source": [
    "# Final Project - Milestone #2:\n",
    "\n",
    "# Web Scraped Data Analysis of Financial Information"
   ]
  },
  {
   "cell_type": "markdown",
   "id": "55bec21d",
   "metadata": {},
   "source": [
    "# Web Scraping with requests and Beautiful Soup"
   ]
  },
  {
   "cell_type": "code",
   "execution_count": null,
   "id": "98cb8b5d",
   "metadata": {},
   "outputs": [],
   "source": [
    "import requests\n",
    "from bs4 import BeautifulSoup as bs\n",
    "import pandas as pd\n",
    "# This Python 3 environment comes with many helpful analytics libraries installed\n",
    "# It is defined by the kaggle/python Docker image: https://github.com/kaggle/docker-python\n",
    "# For example, here's several helpful packages to load\n",
    "import numpy as np # linear algebra\n",
    "import matplotlib.pyplot as plt\n",
    "# from matplotlib import pyplot as plt\n",
    "import seaborn as sns"
   ]
  },
  {
   "cell_type": "code",
   "execution_count": null,
   "id": "d51d3940",
   "metadata": {},
   "outputs": [],
   "source": [
    "# Define the URL to scrape\n",
    "url = 'https://finance.yahoo.com/quote/%5ETNX?p=%5ETNX'\n",
    "# Send a GET request to the URL\n",
    "response = requests.get(url)\n",
    "# Parse the HTML content\n",
    "soup = bs(response.content, 'html.parser')"
   ]
  },
  {
   "cell_type": "code",
   "execution_count": null,
   "id": "3a8abcfc",
   "metadata": {},
   "outputs": [],
   "source": [
    "print(soup.prettify())\n",
    "type(soup)"
   ]
  },
  {
   "cell_type": "markdown",
   "id": "b8226275",
   "metadata": {},
   "source": [
    "### Scrape data from one page and store in a DataFrame"
   ]
  },
  {
   "cell_type": "code",
   "execution_count": null,
   "id": "bfdc8603",
   "metadata": {},
   "outputs": [],
   "source": [
    "import requests\n",
    "from bs4 import BeautifulSoup\n",
    "import datetime\n",
    "\n",
    "def scrape_yahoo_finance_history(symbol, start_date, end_date):\n",
    "    # Format start and end dates as YYYY-MM-DD\n",
    "    start_date = start_date.strftime(\"%Y-%m-%d\")\n",
    "    end_date = end_date.strftime(\"%Y-%m-%d\")\n",
    "    \n",
    "    # Construct URL with stock symbol and date range\n",
    "    url = f\"https://finance.yahoo.com/quote/{symbol}/history?period1={start_date}&period2={end_date}&interval=1d&filter=history&frequency=1d\"\n",
    "    \n",
    "    # Send HTTP GET request and parse HTML with BeautifulSoup\n",
    "    response = requests.get(url)\n",
    "    soup = BeautifulSoup(response.content, \"html.parser\")\n",
    "    \n",
    "    # Find historical data table and extract rows\n",
    "    table = soup.find(\"table\", attrs={\"data-test\": \"historical-prices\"})\n",
    "    rows = table.tbody.find_all(\"tr\")\n",
    "    \n",
    "    # Extract data from rows\n",
    "    data = []\n",
    "    for row in rows:\n",
    "        cells = row.find_all(\"td\")\n",
    "        if len(cells) == 7:  # Check that row has data\n",
    "            date = cells[0].span.text.strip()\n",
    "            close_price = cells[4].span.text.strip()\n",
    "            data.append((date, close_price))\n",
    "    \n",
    "    return data\n",
    "\n",
    "# Example usage: scrape data for AAPL for the past year\n",
    "symbol = \"AAPL\"\n",
    "end_date = datetime.date.today()\n",
    "start_date = end_date - datetime.timedelta(days=365)\n",
    "data = scrape_yahoo_finance_history(symbol, start_date, end_date)\n",
    "print(data)"
   ]
  },
  {
   "cell_type": "code",
   "execution_count": null,
   "id": "299f4623",
   "metadata": {},
   "outputs": [],
   "source": [
    "import datetime\n",
    "\n",
    "# Example usage: scrape data for AAPL for the past year\n",
    "symbol = \"AAPL\"\n",
    "end_date = datetime.date.today()\n",
    "start_date = end_date - datetime.timedelta(days=365)\n",
    "data = scrape_yahoo_finance_history(symbol, start_date, end_date)\n",
    "print(data)"
   ]
  },
  {
   "cell_type": "code",
   "execution_count": null,
   "id": "2442ad3e",
   "metadata": {},
   "outputs": [],
   "source": [
    "import requests\n",
    "from bs4 import BeautifulSoup\n",
    "\n",
    "def scrape_yahoo_finance_history(symbol, start_date, end_date):\n",
    "    # Format start and end dates as YYYY-MM-DD\n",
    "    start_date = start_date.strftime(\"%Y-%m-%d\")\n",
    "    end_date = end_date.strftime(\"%Y-%m-%d\")\n",
    "    \n",
    "    # Construct URL with stock symbol and date range\n",
    "    url = f\"https://finance.yahoo.com/quote/{symbol}/history?period1={start_date}&period2={end_date}&interval=1d&filter=history&frequency=1d\"\n",
    "    \n",
    "    # Send HTTP GET request and parse HTML with BeautifulSoup\n",
    "    response = requests.get(url)\n",
    "    soup = BeautifulSoup(response.content, \"html.parser\")\n",
    "    \n",
    "    # Find historical data table and extract rows\n",
    "    table = soup.find(\"table\", attrs={\"data-test\": \"historical-prices\"})\n",
    "    if table is None:\n",
    "        return []  # Return empty list if table is not found\n",
    "    rows = table.tbody.find_all(\"tr\")\n",
    "    \n",
    "    # Extract data from rows\n",
    "    data = []\n",
    "    for row in rows:\n",
    "        cells = row.find_all(\"td\")\n",
    "        if len(cells) == 7:  # Check that row has data\n",
    "            date = cells[0].span.text.strip()\n",
    "            close_price = cells[4].span.text.strip()\n",
    "            data.append((date, close_price))\n",
    "    \n",
    "    return data\n",
    "\n",
    "import datetime\n",
    "\n",
    "# Example usage: scrape data for AAPL for the past year\n",
    "symbol = \"AAPL\"\n",
    "end_date = datetime.date.today()\n",
    "start_date = end_date - datetime.timedelta(days=365)\n",
    "data = scrape_yahoo_finance_history(symbol, start_date, end_date)\n",
    "print(data)"
   ]
  },
  {
   "cell_type": "markdown",
   "id": "a57cfc7a",
   "metadata": {},
   "source": [
    "### Player Information for a specified Team and a specified Year"
   ]
  },
  {
   "cell_type": "code",
   "execution_count": null,
   "id": "b9eb2c63",
   "metadata": {},
   "outputs": [],
   "source": [
    "import requests\n",
    "from bs4 import BeautifulSoup\n",
    "\n",
    "def scrape_yahoo_finance_history(symbol, start_date, end_date):\n",
    "    # Format start and end dates as YYYY-MM-DD\n",
    "    start_date = start_date.strftime(\"%Y-%m-%d\")\n",
    "    end_date = end_date.strftime(\"%Y-%m-%d\")\n",
    "\n",
    "#   https://finance.yahoo.com/quote/%5EGSPC/history\n",
    "        \n",
    "    # Construct URL with stock symbol and date range\n",
    "    url = f\"https://finance.yahoo.com/quote/{symbol}/history?period1={start_date}&period2={end_date}&interval=1d&filter=history&frequency=1d\"\n",
    "    \n",
    "    # Send HTTP GET request and parse HTML with BeautifulSoup\n",
    "    response = requests.get(url)\n",
    "    soup = BeautifulSoup(response.content, \"html.parser\")\n",
    "    \n",
    "    # Find historical data table and extract rows\n",
    "    table = soup.find(\"table\", attrs={\"data-test\": \"historical-prices\"})\n",
    "    if table is None:\n",
    "        return []  # Return empty list if table is not found\n",
    "    rows = table.tbody.find_all(\"tr\")\n",
    "    \n",
    "    # Extract data from rows\n",
    "    data = []\n",
    "    for row in rows:\n",
    "        cells = row.find_all(\"td\")\n",
    "        if len(cells) == 7:  # Check that row has data\n",
    "            date = cells[0].span.text.strip()\n",
    "            close_price = cells[4].span.text.strip()\n",
    "            data.append((date, close_price))\n",
    "    \n",
    "    return data\n",
    "\n",
    "# Example usage: scrape data for ^GSPC for the past year\n",
    "symbol = \"^GSPC\"\n",
    "end_date = datetime.date.today()\n",
    "start_date = end_date - datetime.timedelta(days=365)\n",
    "data = scrape_yahoo_finance_history(symbol, start_date, end_date)\n",
    "print(data)"
   ]
  },
  {
   "cell_type": "code",
   "execution_count": null,
   "id": "69016fc6",
   "metadata": {},
   "outputs": [],
   "source": [
    "import requests\n",
    "from bs4 import BeautifulSoup\n",
    "\n",
    "def scrape_yahoo_finance_history(symbol, start_date, end_date):\n",
    "    # Format start and end dates as YYYY-MM-DD\n",
    "    start_date = start_date.strftime(\"%Y-%m-%d\")\n",
    "    end_date = end_date.strftime(\"%Y-%m-%d\")\n",
    "\n",
    "#   https://finance.yahoo.com/quote/%5EGSPC/history\n",
    "        \n",
    "    # Construct URL with stock symbol and date range\n",
    "    url = f\"https://finance.yahoo.com/quote/{symbol}/history?period1={start_date}&period2={end_date}&interval=1d&filter=history&frequency=1d\"\n",
    "    \n",
    "    # Send HTTP GET request and parse HTML with BeautifulSoup\n",
    "    response = requests.get(url)\n",
    "    soup = BeautifulSoup(response.content, \"html.parser\")\n",
    "    \n",
    "    # Find historical data table and extract rows\n",
    "    table = soup.find(\"table\", attrs={\"data-test\": \"historical-prices\"})\n",
    "    if table is None:\n",
    "        return []  # Return empty list if table is not found\n",
    "    rows = table.tbody.find_all(\"tr\")\n",
    "    \n",
    "    # Extract data from rows\n",
    "    data = []\n",
    "    for row in rows:\n",
    "        cells = row.find_all(\"td\")\n",
    "        if len(cells) == 7:  # Check that row has data\n",
    "            date = cells[0].span.text.strip()\n",
    "            close_price = cells[4].span.text.strip()\n",
    "            data.append((date, close_price))\n",
    "    \n",
    "    return data\n",
    "\n",
    "# Example usage: scrape data for ^GSPC for the past year\n",
    "symbol = \"%5EGSPC\"\n",
    "end_date = datetime.date.today()\n",
    "start_date = end_date - datetime.timedelta(days=365)\n",
    "data = scrape_yahoo_finance_history(symbol, start_date, end_date)\n",
    "print(data)"
   ]
  },
  {
   "cell_type": "code",
   "execution_count": null,
   "id": "141171e2",
   "metadata": {},
   "outputs": [],
   "source": []
  }
 ],
 "metadata": {
  "kernelspec": {
   "display_name": "Python 3 (ipykernel)",
   "language": "python",
   "name": "python3"
  },
  "language_info": {
   "codemirror_mode": {
    "name": "ipython",
    "version": 3
   },
   "file_extension": ".py",
   "mimetype": "text/x-python",
   "name": "python",
   "nbconvert_exporter": "python",
   "pygments_lexer": "ipython3",
   "version": "3.9.12"
  }
 },
 "nbformat": 4,
 "nbformat_minor": 5
}
